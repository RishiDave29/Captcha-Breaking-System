{
 "cells": [
  {
   "cell_type": "code",
   "execution_count": 4,
   "metadata": {},
   "outputs": [],
   "source": [
    "import cv2\n",
    "import numpy as np\n",
    "import glob\n",
    "import os\n",
    "import pandas as pd\n",
    "import tensorflow as tf\n",
    "from tensorflow.keras.layers import *\n",
    "from tensorflow.keras.models import Sequential\n",
    "from sklearn.preprocessing import LabelBinarizer\n",
    "from sklearn.model_selection import train_test_split\n",
    "from matplotlib import pyplot as plt\n",
    "import warnings\n",
    "warnings.filterwarnings('ignore')"
   ]
  },
  {
   "cell_type": "code",
   "execution_count": 12,
   "metadata": {},
   "outputs": [],
   "source": [
    "#Reading an image\n",
    "images = [cv2.imread(file,cv2.IMREAD_GRAYSCALE) for file in glob.glob(r\"E:\\Aegis Docs\\Capstone Project\\samples\\samples\\*\")]\n",
    "labels = os.listdir(r'E:\\Aegis Docs\\Capstone Project\\samples\\samples')"
   ]
  },
  {
   "cell_type": "code",
   "execution_count": 70,
   "metadata": {},
   "outputs": [],
   "source": [
    "#Creating Labels\n",
    "new_label=[]\n",
    "for i in range(len(labels)):\n",
    "    new_label.append(list(labels[i][:-4]))  \n",
    "flattened  = [val for sublist in new_label for val in sublist]"
   ]
  },
  {
   "cell_type": "code",
   "execution_count": 71,
   "metadata": {},
   "outputs": [],
   "source": [
    "#Segmenting the Letters and String individual letters of Captcha\n",
    "\n",
    "letter=[]\n",
    "for j in range(len(images)):\n",
    "    x, y, w, h = 33, 9, 20, 38\n",
    "    for i in range(5):\n",
    "     #Get bounding box\n",
    "        cv2.rectangle(np.squeeze(images[j]),(x,y),( x + w, y + h ),(0,255,0),1)\n",
    "        letter.append(np.squeeze(images[j])[y:y+h,x:x+w])\n",
    "        x+=w"
   ]
  },
  {
   "cell_type": "code",
   "execution_count": 72,
   "metadata": {},
   "outputs": [],
   "source": [
    "xtrain,xtest,ytrain,ytest = train_test_split(letter,flattened,test_size=0.2,random_state=45)"
   ]
  },
  {
   "cell_type": "code",
   "execution_count": 73,
   "metadata": {},
   "outputs": [
    {
     "name": "stdout",
     "output_type": "stream",
     "text": [
      "(1064, 38, 20)\n"
     ]
    }
   ],
   "source": [
    "xtrain = np.array(xtrain)\n",
    "#print(xtrain.shape)\n",
    "\n",
    "xtest = np.array(xtest)\n",
    "print(xtest.shape)"
   ]
  },
  {
   "cell_type": "code",
   "execution_count": 74,
   "metadata": {},
   "outputs": [
    {
     "name": "stdout",
     "output_type": "stream",
     "text": [
      "(4256,)\n",
      "(1064,)\n"
     ]
    }
   ],
   "source": [
    "ytrain = np.array(ytrain)\n",
    "print(ytrain.shape)\n",
    "\n",
    "ytest = np.array(ytest)\n",
    "print(ytest.shape)"
   ]
  },
  {
   "cell_type": "code",
   "execution_count": 75,
   "metadata": {},
   "outputs": [],
   "source": [
    "#Converting the Data to 4D \n",
    "img_width = 38\n",
    "img_height = 20\n",
    "X_train = xtrain.reshape(xtrain.shape[0], img_width, img_height, 1)\n",
    "X_test = xtest.reshape(xtest.shape[0], img_width, img_height, 1)"
   ]
  },
  {
   "cell_type": "code",
   "execution_count": 76,
   "metadata": {},
   "outputs": [],
   "source": [
    "#Creating Labels for training\n",
    "encoder = LabelBinarizer()\n",
    "transfomed_label = encoder.fit_transform(ytrain)"
   ]
  },
  {
   "cell_type": "code",
   "execution_count": 77,
   "metadata": {},
   "outputs": [],
   "source": [
    "model = Sequential()\n",
    "\n",
    "model.add(Conv2D(128,5,activation='relu',input_shape=X_train.shape[1:]))\n",
    "model.add(MaxPooling2D(padding='same'))\n",
    "\n",
    "model.add(Conv2D(128,5,activation='relu',padding='same'))\n",
    "model.add(MaxPooling2D(padding='same'))\n",
    "\n",
    "model.add(Conv2D(64,5,activation='relu',padding='same'))\n",
    "model.add(MaxPooling2D(padding='same'))\n",
    "\n",
    "model.add(Conv2D(32,5,activation='relu',padding='same'))\n",
    "model.add(MaxPooling2D(padding='same'))\n",
    "\n",
    "model.add(Flatten())\n",
    "\n",
    "model.add(Dense(64, activation='relu'))\n",
    "model.add(Dropout(0.5))\n",
    "model.add(Dense(32, activation='relu'))\n",
    "\n",
    "model.add(Dense(19,activation='softmax'))"
   ]
  },
  {
   "cell_type": "code",
   "execution_count": 78,
   "metadata": {},
   "outputs": [
    {
     "name": "stdout",
     "output_type": "stream",
     "text": [
      "Model: \"sequential_1\"\n",
      "_________________________________________________________________\n",
      "Layer (type)                 Output Shape              Param #   \n",
      "=================================================================\n",
      "conv2d_4 (Conv2D)            (None, 34, 16, 128)       3328      \n",
      "_________________________________________________________________\n",
      "max_pooling2d_4 (MaxPooling2 (None, 17, 8, 128)        0         \n",
      "_________________________________________________________________\n",
      "conv2d_5 (Conv2D)            (None, 17, 8, 128)        409728    \n",
      "_________________________________________________________________\n",
      "max_pooling2d_5 (MaxPooling2 (None, 9, 4, 128)         0         \n",
      "_________________________________________________________________\n",
      "conv2d_6 (Conv2D)            (None, 9, 4, 64)          204864    \n",
      "_________________________________________________________________\n",
      "max_pooling2d_6 (MaxPooling2 (None, 5, 2, 64)          0         \n",
      "_________________________________________________________________\n",
      "conv2d_7 (Conv2D)            (None, 5, 2, 32)          51232     \n",
      "_________________________________________________________________\n",
      "max_pooling2d_7 (MaxPooling2 (None, 3, 1, 32)          0         \n",
      "_________________________________________________________________\n",
      "flatten_1 (Flatten)          (None, 96)                0         \n",
      "_________________________________________________________________\n",
      "dense_3 (Dense)              (None, 64)                6208      \n",
      "_________________________________________________________________\n",
      "dropout_1 (Dropout)          (None, 64)                0         \n",
      "_________________________________________________________________\n",
      "dense_4 (Dense)              (None, 32)                2080      \n",
      "_________________________________________________________________\n",
      "dense_5 (Dense)              (None, 19)                627       \n",
      "=================================================================\n",
      "Total params: 678,067\n",
      "Trainable params: 678,067\n",
      "Non-trainable params: 0\n",
      "_________________________________________________________________\n"
     ]
    }
   ],
   "source": [
    "model.summary()"
   ]
  },
  {
   "cell_type": "code",
   "execution_count": 79,
   "metadata": {},
   "outputs": [],
   "source": [
    "model.compile(loss='categorical_crossentropy',optimizer='adam',metrics=['accuracy'])"
   ]
  },
  {
   "cell_type": "code",
   "execution_count": 80,
   "metadata": {},
   "outputs": [
    {
     "name": "stdout",
     "output_type": "stream",
     "text": [
      "Train on 3830 samples, validate on 426 samples\n",
      "Epoch 1/20\n",
      "3830/3830 [==============================] - 26s 7ms/sample - loss: 3.7164 - accuracy: 0.0554 - val_loss: 2.9219 - val_accuracy: 0.0915\n",
      "Epoch 2/20\n",
      "3830/3830 [==============================] - 26s 7ms/sample - loss: 2.8911 - accuracy: 0.0883 - val_loss: 2.8024 - val_accuracy: 0.0892\n",
      "Epoch 3/20\n",
      "3830/3830 [==============================] - 26s 7ms/sample - loss: 2.6917 - accuracy: 0.1444 - val_loss: 2.5065 - val_accuracy: 0.2606\n",
      "Epoch 4/20\n",
      "3830/3830 [==============================] - 26s 7ms/sample - loss: 2.3125 - accuracy: 0.2687 - val_loss: 1.8314 - val_accuracy: 0.5681\n",
      "Epoch 5/20\n",
      "3830/3830 [==============================] - 26s 7ms/sample - loss: 1.8146 - accuracy: 0.4389 - val_loss: 1.2462 - val_accuracy: 0.7113\n",
      "Epoch 6/20\n",
      "3830/3830 [==============================] - 26s 7ms/sample - loss: 1.3772 - accuracy: 0.5661 - val_loss: 0.9175 - val_accuracy: 0.8028\n",
      "Epoch 7/20\n",
      "3830/3830 [==============================] - 25s 7ms/sample - loss: 1.1636 - accuracy: 0.6381 - val_loss: 0.7728 - val_accuracy: 0.8333\n",
      "Epoch 8/20\n",
      "3830/3830 [==============================] - 25s 7ms/sample - loss: 0.9842 - accuracy: 0.6872 - val_loss: 0.6948 - val_accuracy: 0.8427\n",
      "Epoch 9/20\n",
      "3830/3830 [==============================] - 26s 7ms/sample - loss: 0.8133 - accuracy: 0.7488 - val_loss: 0.5776 - val_accuracy: 0.8709\n",
      "Epoch 10/20\n",
      "3830/3830 [==============================] - 26s 7ms/sample - loss: 0.7473 - accuracy: 0.7661 - val_loss: 0.5447 - val_accuracy: 0.8732\n",
      "Epoch 11/20\n",
      "3830/3830 [==============================] - 26s 7ms/sample - loss: 0.6696 - accuracy: 0.7903 - val_loss: 0.5158 - val_accuracy: 0.8850\n",
      "Epoch 12/20\n",
      "3830/3830 [==============================] - 26s 7ms/sample - loss: 0.5835 - accuracy: 0.8222 - val_loss: 0.5406 - val_accuracy: 0.8826\n",
      "Epoch 13/20\n",
      "3830/3830 [==============================] - 26s 7ms/sample - loss: 0.5258 - accuracy: 0.8316 - val_loss: 0.5052 - val_accuracy: 0.8873\n",
      "Epoch 14/20\n",
      "3830/3830 [==============================] - 26s 7ms/sample - loss: 0.5314 - accuracy: 0.8332 - val_loss: 0.5198 - val_accuracy: 0.8944\n",
      "Epoch 15/20\n",
      "3830/3830 [==============================] - 26s 7ms/sample - loss: 0.4645 - accuracy: 0.8499 - val_loss: 0.4967 - val_accuracy: 0.9061\n",
      "Epoch 16/20\n",
      "3830/3830 [==============================] - 26s 7ms/sample - loss: 0.4353 - accuracy: 0.8569 - val_loss: 0.4882 - val_accuracy: 0.8897\n",
      "Epoch 17/20\n",
      "3830/3830 [==============================] - 26s 7ms/sample - loss: 0.4235 - accuracy: 0.8572 - val_loss: 0.4412 - val_accuracy: 0.9131\n",
      "Epoch 18/20\n",
      "3830/3830 [==============================] - 26s 7ms/sample - loss: 0.3698 - accuracy: 0.8736 - val_loss: 0.4350 - val_accuracy: 0.9272\n",
      "Epoch 19/20\n",
      "3830/3830 [==============================] - 26s 7ms/sample - loss: 0.3483 - accuracy: 0.8828 - val_loss: 0.4743 - val_accuracy: 0.9131\n",
      "Epoch 20/20\n",
      "3830/3830 [==============================] - 26s 7ms/sample - loss: 0.3557 - accuracy: 0.8804 - val_loss: 0.4263 - val_accuracy: 0.9131\n"
     ]
    }
   ],
   "source": [
    "model_hist= model.fit(X_train,transfomed_label,epochs=20,batch_size=128,validation_split=0.1)"
   ]
  },
  {
   "cell_type": "code",
   "execution_count": 81,
   "metadata": {},
   "outputs": [],
   "source": [
    "model.save('success.h5')"
   ]
  },
  {
   "cell_type": "code",
   "execution_count": 82,
   "metadata": {},
   "outputs": [
    {
     "data": {
      "image/png": "[encoded data removed]",
      "text/plain": [
       "<Figure size 432x288 with 1 Axes>"
      ]
     },
     "metadata": {
      "needs_background": "light"
     },
     "output_type": "display_data"
    },
    {
     "data": {
      "image/png": "[encoded data removed]",
      "text/plain": [
       "<Figure size 432x288 with 1 Axes>"
      ]
     },
     "metadata": {
      "needs_background": "light"
     },
     "output_type": "display_data"
    }
   ],
   "source": [
    "plt.plot(model_hist.history['accuracy'])\n",
    "plt.plot(model_hist.history['val_accuracy'])\n",
    "plt.title('Model accuracy')\n",
    "plt.ylabel('Accuracy')\n",
    "plt.xlabel('Epoch')\n",
    "plt.legend(['Train', 'Test'], loc='upper left')\n",
    "plt.show()\n",
    "\n",
    "# Plot training & validation loss values\n",
    "plt.plot(model_hist.history['loss'])\n",
    "plt.plot(model_hist.history['val_loss'])\n",
    "plt.title('Model loss')\n",
    "plt.ylabel('Loss')\n",
    "plt.xlabel('Epoch')\n",
    "plt.legend(['Train', 'Test'], loc='upper left')\n",
    "plt.show()"
   ]
  },
  {
   "cell_type": "code",
   "execution_count": 17,
   "metadata": {},
   "outputs": [],
   "source": [
    "def predict(filepath):\n",
    "    img = cv2.imread(filepath, cv2.IMREAD_GRAYSCALE)\n",
    "    image = cv2.imread(filepath)\n",
    "    l=[]\n",
    "    l1=[]\n",
    "    op=[]\n",
    "    pred=[]\n",
    "    x, y, w, h = 33, 9, 20, 38\n",
    "    for i in range(5):\n",
    "    #Get bounding box\n",
    "        cv2.rectangle(np.squeeze(img),(x,y),( x + w, y + h ),(0,255,0),1)\n",
    "        l.append(np.squeeze(img[y:y+h,x:x+w]))\n",
    "        x+=w\n",
    "        \n",
    "    for i in range(5):\n",
    "        l1.append(np.expand_dims(l[i],axis=0).reshape(1, img_width, img_height, 1))\n",
    "        op.append(model.predict_classes(tf.cast(l1[i], tf.float32))[0])\n",
    "\n",
    "    for k in range(len(op)):\n",
    "        pred.append(encoder.classes_[op[k]]){\n",
    "         s = ''.join(pred)\n",
    "    return s\n",
    "    #plt.imshow(image)"
   ]
  }
 ],
 "metadata": {
  "kernelspec": {
   "display_name": "Python 3",
   "language": "python",
   "name": "python3"
  },
  "language_info": {
   "codemirror_mode": {
    "name": "ipython",
    "version": 3
   },
   "file_extension": ".py",
   "mimetype": "text/x-python",
   "name": "python",
   "nbconvert_exporter": "python",
   "pygments_lexer": "ipython3",
   "version": "3.7.3"
  }
 },
 "nbformat": 4,
 "nbformat_minor": 2
}
